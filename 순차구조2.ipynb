{
  "nbformat": 4,
  "nbformat_minor": 0,
  "metadata": {
    "colab": {
      "provenance": [],
      "authorship_tag": "ABX9TyOIZBpvinHjkc5BN2pXxS4A",
      "include_colab_link": true
    },
    "kernelspec": {
      "name": "python3",
      "display_name": "Python 3"
    },
    "language_info": {
      "name": "python"
    }
  },
  "cells": [
    {
      "cell_type": "markdown",
      "metadata": {
        "id": "view-in-github",
        "colab_type": "text"
      },
      "source": [
        "<a href=\"https://colab.research.google.com/github/25b065/class01/blob/main/%EC%88%9C%EC%B0%A8%EA%B5%AC%EC%A1%B02.ipynb\" target=\"_parent\"><img src=\"https://colab.research.google.com/assets/colab-badge.svg\" alt=\"Open In Colab\"/></a>"
      ]
    },
    {
      "cell_type": "code",
      "execution_count": 5,
      "metadata": {
        "colab": {
          "base_uri": "https://localhost:8080/"
        },
        "id": "bfEt551XgGpu",
        "outputId": "49db796c-9d98-41c8-fdde-5e2d4d5af6b0"
      },
      "outputs": [
        {
          "output_type": "stream",
          "name": "stdout",
          "text": [
            "삼각형 그리기:\n",
            "  *\n",
            " ***\n",
            "*****\n",
            "\n",
            "사각형 그리기:\n",
            "****\n",
            "****\n",
            "****\n"
          ]
        }
      ],
      "source": [
        "# prompt: 순차구조를 이용한 삼각형 사각형을 그릴수 있는 프로그램을 만들어줘\n",
        "\n",
        "# 삼각형과 사각형을 순차구조로 그리는 간단한 프로그램 (텍스트 출력)\n",
        "\n",
        "print(\"삼각형 그리기:\")\n",
        "print(\"  *\")\n",
        "print(\" ***\")\n",
        "print(\"*****\")\n",
        "\n",
        "print(\"\\n사각형 그리기:\")\n",
        "print(\"****\")\n",
        "print(\"****\")\n",
        "print(\"****\")\n"
      ]
    }
  ]
}