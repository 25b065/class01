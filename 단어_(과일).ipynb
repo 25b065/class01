{
  "nbformat": 4,
  "nbformat_minor": 0,
  "metadata": {
    "colab": {
      "provenance": [],
      "authorship_tag": "ABX9TyMFSt83wgkwSwVCgXTyzhZm",
      "include_colab_link": true
    },
    "kernelspec": {
      "name": "python3",
      "display_name": "Python 3"
    },
    "language_info": {
      "name": "python"
    }
  },
  "cells": [
    {
      "cell_type": "markdown",
      "metadata": {
        "id": "view-in-github",
        "colab_type": "text"
      },
      "source": [
        "<a href=\"https://colab.research.google.com/github/25b065/class01/blob/main/%EB%8B%A8%EC%96%B4_(%EA%B3%BC%EC%9D%BC).ipynb\" target=\"_parent\"><img src=\"https://colab.research.google.com/assets/colab-badge.svg\" alt=\"Open In Colab\"/></a>"
      ]
    },
    {
      "cell_type": "code",
      "execution_count": null,
      "metadata": {
        "colab": {
          "base_uri": "https://localhost:8080/"
        },
        "id": "mkFuw5fsO26K",
        "outputId": "63629733-dc36-46fd-965a-de7f58f904d6"
      },
      "outputs": [
        {
          "output_type": "stream",
          "name": "stdout",
          "text": [
            "=== 단어 맞추기 게임 ===\n",
            "1학년 친구들을 위한 쉬운 단어 게임이야!\n",
            "아래 단어 중에 하나를 맞춰봐!\n",
            "--------------------\n",
            "어떤 단어일까 : 사과\n",
            "아쉽다... 다시 생각해볼까?\n",
            "남은 기회: 6번\n",
            "어떤 단어일까 : 딸기\n",
            "아쉽다... 다시 생각해볼까?\n",
            "남은 기회: 5번\n"
          ]
        }
      ],
      "source": [
        "# prompt: 1학년 수준의 알맞게 단어 랜덤게임 만들어줘\n",
        "\n",
        "import random\n",
        "\n",
        "# 1학년 수준의 쉬운 단어(과일) 리스트\n",
        "words = [\"사과\", \"바나나\", \"딸기\", \"포도\", \"오렌지\", \"수박\", \"멜론\", \"토마토\", \"귤\", \"배\"]\n",
        "\n",
        "# 게임 시작\n",
        "print(\"=== 단어 맞추기 게임 ===\")\n",
        "print(\"1학년 친구들을 위한 쉬운 단어 게임이야!\")\n",
        "print(\"아래 단어 중에 하나를 맞춰봐!\")\n",
        "print(\"-\" * 20)\n",
        "\n",
        "# 맞출 단어 랜덤 선택\n",
        "correct_word = random.choice(words)\n",
        "\n",
        "# 정답 확인 함수 (나중에 다시 사용하기 위해 함수로 만듭니다.)\n",
        "def check_answer(guess):\n",
        "  if guess == correct_word:\n",
        "    print(\"짝짝짝! 맞았어! 정말 똑똑하다!\")\n",
        "    return True\n",
        "  else:\n",
        "    print(\"아쉽다... 다시 생각해볼까?\")\n",
        "    return False\n",
        "\n",
        "# 최대 시도 횟수\n",
        "max_attempts = 7\n",
        "attempts = 0\n",
        "\n",
        "# 게임 루프\n",
        "while attempts < max_attempts:\n",
        "  guess = input(\"어떤 단어일까 : \")\n",
        "\n",
        "  if check_answer(guess):\n",
        "    break # 정답을 맞추면 게임 종료\n",
        "\n",
        "  attempts += 1\n",
        "  print(f\"남은 기회: {max_attempts - attempts}번\")\n",
        "\n",
        "# 게임 결과 출력\n",
        "if attempts == max_attempts:\n",
        "  print(\"-\" * 20)\n",
        "  print(f\"아쉽지만 기회를 다 썼어. 정답은 '{correct_word}' 였어!\")\n",
        "  print(\"다음에는 꼭 맞출 수 있을 거야!\")\n",
        "\n",
        "print(\"아쉽다 다음번에 또 도전해 보렴\")\n"
      ]
    }
  ]
}