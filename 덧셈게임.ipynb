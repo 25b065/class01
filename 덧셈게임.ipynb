{
  "nbformat": 4,
  "nbformat_minor": 0,
  "metadata": {
    "colab": {
      "provenance": [],
      "authorship_tag": "ABX9TyNaqGQhYegN1spBNDBLAsRM",
      "include_colab_link": true
    },
    "kernelspec": {
      "name": "python3",
      "display_name": "Python 3"
    },
    "language_info": {
      "name": "python"
    }
  },
  "cells": [
    {
      "cell_type": "markdown",
      "metadata": {
        "id": "view-in-github",
        "colab_type": "text"
      },
      "source": [
        "<a href=\"https://colab.research.google.com/github/25b065/class01/blob/main/%EB%8D%A7%EC%85%88%EA%B2%8C%EC%9E%84.ipynb\" target=\"_parent\"><img src=\"https://colab.research.google.com/assets/colab-badge.svg\" alt=\"Open In Colab\"/></a>"
      ]
    },
    {
      "cell_type": "code",
      "execution_count": null,
      "metadata": {
        "colab": {
          "base_uri": "https://localhost:8080/"
        },
        "id": "y6EJrWbsXUFj",
        "outputId": "e211224d-7fdf-4af2-fca4-110ca14fa72c"
      },
      "outputs": [
        {
          "output_type": "stream",
          "name": "stdout",
          "text": [
            "6 + 5 = ? (그만하려면 '그만' 입력): 11\n",
            "정답입니다! 🎉\n",
            "3 + 7 = ? (그만하려면 '그만' 입력): 그만\n",
            "게임을 종료합니다.\n"
          ]
        }
      ],
      "source": [
        "# prompt: 1학년 수준에 맞게 덧셈 게임을 만들어줘.그리고 그만이라고 하면 그만할수 있게 만들어줘\n",
        "\n",
        "import random\n",
        "def play_addition_game():\n",
        "    while True:\n",
        "        num1 = random.randint(1, 10)  # 1부터 10까지의 랜덤 숫자 생성\n",
        "        num2 = random.randint(1, 10)\n",
        "        correct_answer = num1 + num2\n",
        "\n",
        "        user_answer = input(f\"{num1} + {num2} = ? (그만하려면 '그만' 입력): \")\n",
        "\n",
        "        if user_answer.lower() == \"그만\":\n",
        "            print(\"게임을 종료합니다.\")\n",
        "            break\n",
        "\n",
        "        try:\n",
        "            user_answer = int(user_answer)  # 입력값을 정수로 변환\n",
        "            if user_answer == correct_answer:\n",
        "                print(\"정답입니다! 🎉\")\n",
        "            else:\n",
        "                print(f\"오답입니다. 정답은 {correct_answer}입니다. 😭\")\n",
        "        except ValueError:\n",
        "            print(\"숫자를 입력해주세요.\")\n",
        "\n",
        "if __name__ == \"__main__\":\n",
        "    play_addition_game()\n"
      ]
    }
  ]
}