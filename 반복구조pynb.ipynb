{
  "nbformat": 4,
  "nbformat_minor": 0,
  "metadata": {
    "colab": {
      "provenance": [],
      "authorship_tag": "ABX9TyO7SgkZCUrrAULkfxmtI0/R",
      "include_colab_link": true
    },
    "kernelspec": {
      "name": "python3",
      "display_name": "Python 3"
    },
    "language_info": {
      "name": "python"
    }
  },
  "cells": [
    {
      "cell_type": "markdown",
      "metadata": {
        "id": "view-in-github",
        "colab_type": "text"
      },
      "source": [
        "<a href=\"https://colab.research.google.com/github/25b065/class01/blob/main/%EB%B0%98%EB%B3%B5%EA%B5%AC%EC%A1%B0pynb.ipynb\" target=\"_parent\"><img src=\"https://colab.research.google.com/assets/colab-badge.svg\" alt=\"Open In Colab\"/></a>"
      ]
    },
    {
      "cell_type": "code",
      "execution_count": 5,
      "metadata": {
        "colab": {
          "base_uri": "https://localhost:8080/"
        },
        "id": "Rt35x6UjVy5Y",
        "outputId": "7218c1f9-a1f4-416e-f6c4-4d877f1a48e8"
      },
      "outputs": [
        {
          "output_type": "stream",
          "name": "stdout",
          "text": [
            "1\n",
            "2\n",
            "3\n",
            "4\n",
            "5\n",
            "5\n",
            "4\n",
            "3\n",
            "2\n",
            "1\n"
          ]
        }
      ],
      "source": [
        "# prompt: 반복구조를 사용한 프로그램 만들어줘\n",
        "\n",
        "# This program prints numbers from 1 to 5 using a for loop.\n",
        "for i in range(1, 6):\n",
        "  print(i)\n",
        "\n",
        "# This program prints numbers from 5 to 1 using a while loop.\n",
        "j = 5\n",
        "while j >= 1:\n",
        "  print(j)\n",
        "  j -= 1\n"
      ]
    },
    {
      "cell_type": "code",
      "source": [],
      "metadata": {
        "id": "uiQa8asFV75n"
      },
      "execution_count": null,
      "outputs": []
    }
  ]
}