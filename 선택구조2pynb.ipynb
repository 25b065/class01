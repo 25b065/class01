{
  "nbformat": 4,
  "nbformat_minor": 0,
  "metadata": {
    "colab": {
      "provenance": [],
      "authorship_tag": "ABX9TyOw1hl40LOAi0ZjdUIH+a7i",
      "include_colab_link": true
    },
    "kernelspec": {
      "name": "python3",
      "display_name": "Python 3"
    },
    "language_info": {
      "name": "python"
    }
  },
  "cells": [
    {
      "cell_type": "markdown",
      "metadata": {
        "id": "view-in-github",
        "colab_type": "text"
      },
      "source": [
        "<a href=\"https://colab.research.google.com/github/25b065/class01/blob/main/%EC%84%A0%ED%83%9D%EA%B5%AC%EC%A1%B02pynb.ipynb\" target=\"_parent\"><img src=\"https://colab.research.google.com/assets/colab-badge.svg\" alt=\"Open In Colab\"/></a>"
      ]
    },
    {
      "cell_type": "code",
      "execution_count": 49,
      "metadata": {
        "colab": {
          "base_uri": "https://localhost:8080/"
        },
        "id": "Rt35x6UjVy5Y",
        "outputId": "c68967e7-0cbf-45cb-8c20-7e558dd7e177"
      },
      "outputs": [
        {
          "output_type": "stream",
          "name": "stdout",
          "text": [
            "숫자를 입력하세요: 2\n",
            "입력한 숫자는 양수입니다.\n"
          ]
        }
      ],
      "source": [
        "3\n",
        "# prompt: 선택구조를 사용한 프로그램 만들어줘.그리고 벽에 청소기가 닿으면 140도로 회전하게 해주는 코드를 짜죠\n",
        "\n",
        "# 숫자를 입력 받습니다.\n",
        "number = int(input(\"숫자를 입력하세요: \"))\n",
        "\n",
        "# 선택 구조를 사용하여 양수, 음수, 0을 판별합니다.\n",
        "if number > 0:\n",
        "  print(\"입력한 숫자는 양수입니다.\")\n",
        "elif number < 0:\n",
        "  print(\"입력한 숫자는 음수입니다.\")\n",
        "else:\n",
        "  print(\"입력한 숫자는 0입니다.\")"
      ]
    },
    {
      "cell_type": "code",
      "source": [
        "# prompt: 선택구조를 사용한 프로그램을 만들어줘. 그리고 벽에 청소기가 닿으면 140도로 회전하게 코드를 짜죠\n",
        "\n",
        "# 시뮬레이션: 벽까지의 거리를 나타내는 변수\n",
        "distance_to_wall = 1  # 초기 값\n",
        "\n",
        "# 벽에 닿았는지 확인하는 조건 (여기서는 거리가 0보다 작거나 같으면 닿았다고 가정)\n",
        "if distance_to_wall <= 0:\n",
        "  print(\"벽에 닿았습니다.\")\n",
        "  print(\"140도 회전합니다.\")\n",
        "  # 실제 로봇 제어 코드는 여기에 들어갑니다 (시뮬레이션에서는 출력으로 대체)\n",
        "  # 예를 들어, 로봇의 회전 명령어를 호출하는 코드가 여기에 올 수 있습니다.\n",
        "elif distance_to_wall > 0 and distance_to_wall < 10:\n",
        "    print(\"벽이 가까워지고 있습니다.\")\n",
        "    # 가까워짐에 따라 속도를 줄이거나 다른 행동을 할 수 있습니다.\n",
        "else:\n",
        "  print(\"벽에서 멀리 떨어져 있습니다.\")\n",
        "  # 정상적으로 앞으로 이동하는 등의 동작을 할 수 있습니다.\n",
        "\n",
        "# 시뮬레이션: 다음 스텝에서의 거리 변화를 가정 (예: 1 감소)\n",
        "distance_to_wall -= 1 # 다음 시뮬레이션 스텝에서 거리가 줄어든다고 가정\n",
        "\n",
        "# 이 코드는 단일 스텝을 시뮬레이션합니다.\n",
        "# 실제 로봇에서는 센서 값을 지속적으로 읽고 이 코드를 반복 실행해야 합니다.\n"
      ],
      "metadata": {
        "id": "uiQa8asFV75n",
        "colab": {
          "base_uri": "https://localhost:8080/"
        },
        "outputId": "741d7ab1-b2e0-459b-f7af-97affb69216d"
      },
      "execution_count": 48,
      "outputs": [
        {
          "output_type": "stream",
          "name": "stdout",
          "text": [
            "벽이 가까워지고 있습니다.\n"
          ]
        }
      ]
    }
  ]
}