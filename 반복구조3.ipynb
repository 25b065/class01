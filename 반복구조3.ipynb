{
  "nbformat": 4,
  "nbformat_minor": 0,
  "metadata": {
    "colab": {
      "provenance": [],
      "authorship_tag": "ABX9TyOIZBpvinHjkc5BN2pXxS4A",
      "include_colab_link": true
    },
    "kernelspec": {
      "name": "python3",
      "display_name": "Python 3"
    },
    "language_info": {
      "name": "python"
    }
  },
  "cells": [
    {
      "cell_type": "markdown",
      "metadata": {
        "id": "view-in-github",
        "colab_type": "text"
      },
      "source": [
        "<a href=\"https://colab.research.google.com/github/25b065/class01/blob/main/%EB%B0%98%EB%B3%B5%EA%B5%AC%EC%A1%B03.ipynb\" target=\"_parent\"><img src=\"https://colab.research.google.com/assets/colab-badge.svg\" alt=\"Open In Colab\"/></a>"
      ]
    },
    {
      "cell_type": "code",
      "execution_count": 8,
      "metadata": {
        "colab": {
          "base_uri": "https://localhost:8080/"
        },
        "id": "bfEt551XgGpu",
        "outputId": "695e524a-5e2c-4014-d472-b324b7411736"
      },
      "outputs": [
        {
          "output_type": "stream",
          "name": "stdout",
          "text": [
            "삼각형 그리기:\n",
            "  *\n",
            " ***\n",
            "*****\n",
            "\n",
            "사각형 그리기:\n",
            "****\n",
            "****\n",
            "****\n"
          ]
        }
      ],
      "source": [
        "# prompt: 순차구조를 이용한 삼각형 사각형을 그릴수 있는 프로그램을 만들어줘\n",
        "\n",
        "# 삼각형과 사각형을 순차구조로 그리는 간단한 프로그램 (텍스트 출력)\n",
        "\n",
        "print(\"삼각형 그리기:\")\n",
        "print(\"  *\")\n",
        "print(\" ***\")\n",
        "print(\"*****\")\n",
        "\n",
        "print(\"\\n사각형 그리기:\")\n",
        "print(\"****\")\n",
        "print(\"****\")\n",
        "print(\"****\")\n"
      ]
    }
  ]
}