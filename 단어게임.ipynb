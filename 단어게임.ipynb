{
  "nbformat": 4,
  "nbformat_minor": 0,
  "metadata": {
    "colab": {
      "provenance": [],
      "authorship_tag": "ABX9TyOdR0+jas3rxtJSjn8SaAqp",
      "include_colab_link": true
    },
    "kernelspec": {
      "name": "python3",
      "display_name": "Python 3"
    },
    "language_info": {
      "name": "python"
    }
  },
  "cells": [
    {
      "cell_type": "markdown",
      "metadata": {
        "id": "view-in-github",
        "colab_type": "text"
      },
      "source": [
        "<a href=\"https://colab.research.google.com/github/25b065/class01/blob/main/%EB%8B%A8%EC%96%B4%EA%B2%8C%EC%9E%84.ipynb\" target=\"_parent\"><img src=\"https://colab.research.google.com/assets/colab-badge.svg\" alt=\"Open In Colab\"/></a>"
      ]
    },
    {
      "cell_type": "code",
      "execution_count": null,
      "metadata": {
        "colab": {
          "base_uri": "https://localhost:8080/"
        },
        "id": "bVl0u_uqVceR",
        "outputId": "6595af03-bafa-4bec-e9ef-8b93d8a1f31c"
      },
      "outputs": [
        {
          "output_type": "stream",
          "name": "stdout",
          "text": [
            "단어 맞추기 게임 시작!\n",
            "단어: _ _ _\n",
            "단어를 입력하세요 (힌트를 보려면 '힌트' 입력): 딸기\n",
            "단어는 3 글자입니다.\n",
            "단어를 입력하세요 (힌트를 보려면 '힌트' 입력): 힌트\n",
            "힌트: 사람이나 물건을 운반하는 수단입니다.\n",
            "단어를 입력하세요 (힌트를 보려면 '힌트' 입력): 자동차\n",
            "정답입니다! 단어는 '자동차'였습니다.\n"
          ]
        }
      ],
      "source": [
        "# prompt: 간단한 단어 게임 만들어줘 그리고 힌트라고 쓰면 힌트가 나오게 해줘\n",
        "\n",
        "import random\n",
        "\n",
        "def word_game():\n",
        "  \"\"\"간단한 단어 게임을 실행합니다. 힌트 기능을 포함합니다.\"\"\"\n",
        "\n",
        "  words = {\n",
        "      \"사과\": \"빨갛고 맛있는 과일입니다.\",\n",
        "      \"바나나\": \"노랗고 긴 과일입니다.\",\n",
        "      \"자동차\": \"사람이나 물건을 운반하는 수단입니다.\",\n",
        "      \"하늘\": \"우리가 올려다보는 파란 공간입니다.\",\n",
        "      \"책상\": \"공부하거나 일할 때 사용하는 가구입니다.\"\n",
        "  }\n",
        "\n",
        "  word, hint = random.choice(list(words.items()))\n",
        "  guessed_word = [\"_\"] * len(word)\n",
        "  attempts = 5\n",
        "\n",
        "  print(\"단어 맞추기 게임 시작!\")\n",
        "  print(\"단어:\", \" \".join(guessed_word))\n",
        "\n",
        "  while attempts > 0:\n",
        "    guess = input(\"단어를 입력하세요 (힌트를 보려면 '힌트' 입력): \").strip()\n",
        "\n",
        "    if guess == \"힌트\":\n",
        "      print(\"힌트:\", hint)\n",
        "      continue\n",
        "\n",
        "    if len(guess) != len(word):\n",
        "      print(f\"단어는 {len(word)} 글자입니다.\")\n",
        "      continue\n",
        "\n",
        "    if guess == word:\n",
        "      print(f\"정답입니다! 단어는 '{word}'였습니다.\")\n",
        "      break\n",
        "    else:\n",
        "      print(\"틀렸습니다.\")\n",
        "      attempts -= 1\n",
        "      print(f\"남은 시도 횟수: {attempts}\")\n",
        "\n",
        "  if attempts == 0:\n",
        "    print(f\"실패했습니다. 정답은 '{word}'였습니다.\")\n",
        "\n",
        "if __name__ == \"__main__\":\n",
        "  word_game()\n"
      ]
    }
  ]
}