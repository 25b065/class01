{
  "nbformat": 4,
  "nbformat_minor": 0,
  "metadata": {
    "colab": {
      "provenance": [],
      "authorship_tag": "ABX9TyOh618v71C+nJJFlkaMU4lh",
      "include_colab_link": true
    },
    "kernelspec": {
      "name": "python3",
      "display_name": "Python 3"
    },
    "language_info": {
      "name": "python"
    }
  },
  "cells": [
    {
      "cell_type": "markdown",
      "metadata": {
        "id": "view-in-github",
        "colab_type": "text"
      },
      "source": [
        "<a href=\"https://colab.research.google.com/github/25b065/class01/blob/main/%EA%B3%84%EC%82%B0%EA%B8%B0ipynb.ipynb\" target=\"_parent\"><img src=\"https://colab.research.google.com/assets/colab-badge.svg\" alt=\"Open In Colab\"/></a>"
      ]
    },
    {
      "cell_type": "code",
      "execution_count": null,
      "metadata": {
        "colab": {
          "base_uri": "https://localhost:8080/"
        },
        "id": "pBLfHx05R02i",
        "outputId": "546dd5a0-1328-48e6-d7a5-1a483aec407d"
      },
      "outputs": [
        {
          "output_type": "stream",
          "name": "stdout",
          "text": [
            "사칙연산 게임 시작!\n",
            "\n",
            "문제 1: 2 + 14 =\n",
            "답변: 16\n",
            "정답입니다!\n",
            "\n",
            "문제 2: 17 * 19 =\n"
          ]
        }
      ],
      "source": [
        "# prompt: 사칙연산 게임 만들어줘\n",
        "\n",
        "import random\n",
        "\n",
        "def generate_question():\n",
        "  \"\"\"두 개의 숫자와 연산자를 이용해 문제를 생성합니다.\"\"\"\n",
        "  num1 = random.randint(1, 20)\n",
        "  num2 = random.randint(1, 20)\n",
        "  operator = random.choice(['+', '-', '*', '/'])\n",
        "\n",
        "  # 0으로 나누는 것을 방지하고 정수 나눗셈이 되도록 조정\n",
        "  if operator == '/':\n",
        "      while num2 == 0 or num1 % num2 != 0:\n",
        "          num1 = random.randint(1, 20)\n",
        "          num2 = random.randint(1, 20)\n",
        "\n",
        "  question = f\"{num1} {operator} {num2} =\"\n",
        "  return question, eval(f\"{num1}{operator}{num2}\")\n",
        "\n",
        "def play_game(num_questions=5):\n",
        "  \"\"\"사칙연산 게임을 실행합니다.\"\"\"\n",
        "  print(\"사칙연산 게임 시작!\")\n",
        "  score = 0\n",
        "\n",
        "  for i in range(num_questions):\n",
        "    question, answer = generate_question()\n",
        "    print(f\"\\n문제 {i+1}: {question}\")\n",
        "\n",
        "    try:\n",
        "      user_answer = float(input(\"답변: \"))\n",
        "      if user_answer == answer:\n",
        "        print(\"정답입니다!\")\n",
        "        score += 1\n",
        "      else:\n",
        "        print(f\"틀렸습니다. 정답은 {answer} 입니다.\")\n",
        "    except ValueError:\n",
        "      print(\"잘못된 입력입니다. 숫자를 입력해주세요.\")\n",
        "      print(f\"정답은 {answer} 입니다.\")\n",
        "\n",
        "\n",
        "  print(f\"\\n게임 종료! 총 {num_questions} 문제 중 {score} 문제 맞췄습니다.\")\n",
        "\n",
        "# 게임 실행\n",
        "play_game()\n"
      ]
    }
  ]
}