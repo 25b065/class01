{
  "nbformat": 4,
  "nbformat_minor": 0,
  "metadata": {
    "colab": {
      "provenance": [],
      "authorship_tag": "ABX9TyPX9UrtcZ/9qcwMK6ssdCAT",
      "include_colab_link": true
    },
    "kernelspec": {
      "name": "python3",
      "display_name": "Python 3"
    },
    "language_info": {
      "name": "python"
    }
  },
  "cells": [
    {
      "cell_type": "markdown",
      "metadata": {
        "id": "view-in-github",
        "colab_type": "text"
      },
      "source": [
        "<a href=\"https://colab.research.google.com/github/25b065/class01/blob/main/%EB%91%90_%EB%82%B1%EB%A7%904ipynb.ipynb\" target=\"_parent\"><img src=\"https://colab.research.google.com/assets/colab-badge.svg\" alt=\"Open In Colab\"/></a>"
      ]
    },
    {
      "cell_type": "code",
      "execution_count": 2,
      "metadata": {
        "colab": {
          "base_uri": "https://localhost:8080/"
        },
        "id": "I7cA4eJjpnJl",
        "outputId": "daa767b0-86a5-483d-b87e-ba761a3fb20e"
      },
      "outputs": [
        {
          "output_type": "stream",
          "name": "stdout",
          "text": [
            "안녕하세요! 이름을 알려주세요: 해린\n",
            "해린님, 가장 좋아하는 색깔은 무엇인가요? 보라\n",
            "해린님은 보라을(를) 좋아하시네요!\n"
          ]
        }
      ],
      "source": [
        "# prompt: 두 낱말을 연결해서 가장좋아하는 색깔을 물어보고 누구인지 물어본뒤 누구는 무슨색을 좋아하구나라고 말하게 한다\n",
        "\n",
        "name = input(\"안녕하세요! 이름을 알려주세요: \")\n",
        "favorite_color = input(f\"{name}님, 가장 좋아하는 색깔은 무엇인가요? \")\n",
        "print(f\"{name}님은 {favorite_color}을(를) 좋아하시네요!\")\n"
      ]
    }
  ]
}