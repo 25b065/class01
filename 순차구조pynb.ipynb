{
  "nbformat": 4,
  "nbformat_minor": 0,
  "metadata": {
    "colab": {
      "provenance": [],
      "authorship_tag": "ABX9TyO5Yho7/YZtooHi2VfbqU31",
      "include_colab_link": true
    },
    "kernelspec": {
      "name": "python3",
      "display_name": "Python 3"
    },
    "language_info": {
      "name": "python"
    }
  },
  "cells": [
    {
      "cell_type": "markdown",
      "metadata": {
        "id": "view-in-github",
        "colab_type": "text"
      },
      "source": [
        "<a href=\"https://colab.research.google.com/github/25b065/class01/blob/main/%EC%88%9C%EC%B0%A8%EA%B5%AC%EC%A1%B0pynb.ipynb\" target=\"_parent\"><img src=\"https://colab.research.google.com/assets/colab-badge.svg\" alt=\"Open In Colab\"/></a>"
      ]
    },
    {
      "cell_type": "code",
      "execution_count": 4,
      "metadata": {
        "colab": {
          "base_uri": "https://localhost:8080/"
        },
        "id": "Rt35x6UjVy5Y",
        "outputId": "118e3ea1-2a15-4160-ff15-0b4bdfd7d47e"
      },
      "outputs": [
        {
          "output_type": "stream",
          "name": "stdout",
          "text": [
            "첫 번째 숫자를 입력하세요: 2\n",
            "두 번째 숫자를 입력하세요: 3\n",
            "두 숫자의 합은: 5\n",
            "두 숫자의 차이는: -1\n",
            "두 숫자의 곱은: 6\n",
            "두 숫자의 나눗셈 결과는: 0.6666666666666666\n",
            "순차 구조 프로그래밍이 종료되었습니다.\n"
          ]
        }
      ],
      "source": [
        "# prompt: 순차구조를 사용한 프로그래밍을 만들어줘\n",
        "\n",
        "num1 = int(input(\"첫 번째 숫자를 입력하세요: \"))\n",
        "num2 = int(input(\"두 번째 숫자를 입력하세요: \"))\n",
        "\n",
        "sum_result = num1 + num2\n",
        "print(\"두 숫자의 합은:\", sum_result)\n",
        "\n",
        "difference_result = num1 - num2\n",
        "print(\"두 숫자의 차이는:\", difference_result)\n",
        "\n",
        "product_result = num1 * num2\n",
        "print(\"두 숫자의 곱은:\", product_result)\n",
        "\n",
        "# 두 번째 숫자가 0이 아닌 경우에만 나눗셈을 수행\n",
        "if num2 != 0:\n",
        "    division_result = num1 / num2\n",
        "    print(\"두 숫자의 나눗셈 결과는:\", division_result)\n",
        "else:\n",
        "    print(\"0으로 나눌 수 없습니다.\")\n",
        "\n",
        "print(\"순차 구조 프로그래밍이 종료되었습니다.\")"
      ]
    },
    {
      "cell_type": "code",
      "source": [],
      "metadata": {
        "id": "uiQa8asFV75n"
      },
      "execution_count": null,
      "outputs": []
    }
  ]
}