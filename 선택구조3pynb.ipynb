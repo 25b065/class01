{
  "nbformat": 4,
  "nbformat_minor": 0,
  "metadata": {
    "colab": {
      "provenance": [],
      "authorship_tag": "ABX9TyOSeBiMd7JEf9L43yhofqC7",
      "include_colab_link": true
    },
    "kernelspec": {
      "name": "python3",
      "display_name": "Python 3"
    },
    "language_info": {
      "name": "python"
    },
    "widgets": {
      "application/vnd.jupyter.widget-state+json": {
        "7fbc8b96fdd6435bb0329c9dfed350c3": {
          "model_module": "@jupyter-widgets/controls",
          "model_name": "DropdownModel",
          "model_module_version": "1.5.0",
          "state": {
            "_dom_classes": [],
            "_model_module": "@jupyter-widgets/controls",
            "_model_module_version": "1.5.0",
            "_model_name": "DropdownModel",
            "_options_labels": [
              "삼각형",
              "사각형"
            ],
            "_view_count": null,
            "_view_module": "@jupyter-widgets/controls",
            "_view_module_version": "1.5.0",
            "_view_name": "DropdownView",
            "description": "도형 선택:",
            "description_tooltip": null,
            "disabled": false,
            "index": 1,
            "layout": "IPY_MODEL_2de5673670b04c029b83a701ed498239",
            "style": "IPY_MODEL_02a3e8ed1b2140a1939943f5e1f1bacc"
          }
        },
        "2de5673670b04c029b83a701ed498239": {
          "model_module": "@jupyter-widgets/base",
          "model_name": "LayoutModel",
          "model_module_version": "1.2.0",
          "state": {
            "_model_module": "@jupyter-widgets/base",
            "_model_module_version": "1.2.0",
            "_model_name": "LayoutModel",
            "_view_count": null,
            "_view_module": "@jupyter-widgets/base",
            "_view_module_version": "1.2.0",
            "_view_name": "LayoutView",
            "align_content": null,
            "align_items": null,
            "align_self": null,
            "border": null,
            "bottom": null,
            "display": null,
            "flex": null,
            "flex_flow": null,
            "grid_area": null,
            "grid_auto_columns": null,
            "grid_auto_flow": null,
            "grid_auto_rows": null,
            "grid_column": null,
            "grid_gap": null,
            "grid_row": null,
            "grid_template_areas": null,
            "grid_template_columns": null,
            "grid_template_rows": null,
            "height": null,
            "justify_content": null,
            "justify_items": null,
            "left": null,
            "margin": null,
            "max_height": null,
            "max_width": null,
            "min_height": null,
            "min_width": null,
            "object_fit": null,
            "object_position": null,
            "order": null,
            "overflow": null,
            "overflow_x": null,
            "overflow_y": null,
            "padding": null,
            "right": null,
            "top": null,
            "visibility": null,
            "width": null
          }
        },
        "02a3e8ed1b2140a1939943f5e1f1bacc": {
          "model_module": "@jupyter-widgets/controls",
          "model_name": "DescriptionStyleModel",
          "model_module_version": "1.5.0",
          "state": {
            "_model_module": "@jupyter-widgets/controls",
            "_model_module_version": "1.5.0",
            "_model_name": "DescriptionStyleModel",
            "_view_count": null,
            "_view_module": "@jupyter-widgets/base",
            "_view_module_version": "1.2.0",
            "_view_name": "StyleView",
            "description_width": ""
          }
        }
      }
    }
  },
  "cells": [
    {
      "cell_type": "markdown",
      "metadata": {
        "id": "view-in-github",
        "colab_type": "text"
      },
      "source": [
        "<a href=\"https://colab.research.google.com/github/25b065/class01/blob/main/%EC%84%A0%ED%83%9D%EA%B5%AC%EC%A1%B03pynb.ipynb\" target=\"_parent\"><img src=\"https://colab.research.google.com/assets/colab-badge.svg\" alt=\"Open In Colab\"/></a>"
      ]
    },
    {
      "cell_type": "code",
      "source": [
        "# prompt: 선택구조를 이용해 삼각형과 사각형을 그려줘\n",
        "\n",
        "import matplotlib.pyplot as plt\n",
        "import matplotlib.patches as patches\n",
        "import ipywidgets as widgets\n",
        "from IPython.display import display\n",
        "\n",
        "# 드롭다운 위젯 생성\n",
        "shape_dropdown = widgets.Dropdown(\n",
        "    options=['삼각형', '사각형'],\n",
        "    description='도형 선택:',\n",
        "    disabled=False,\n",
        ")\n",
        "\n",
        "# 드롭다운 위젯 표시\n",
        "display(shape_dropdown)\n",
        "\n",
        "# 도형을 그리는 함수\n",
        "def draw_shape(shape):\n",
        "    fig, ax = plt.subplots(1)\n",
        "    ax.set_xlim([-2, 2])\n",
        "    ax.set_ylim([-2, 2])\n",
        "    ax.set_aspect('equal', adjustable='box')\n",
        "\n",
        "    if shape == '삼각형':\n",
        "        print(\"삼각형을 그립니다.\")\n",
        "        # 삼각형 꼭지점 좌표\n",
        "        triangle = patches.Polygon([[0, 1], [-1, -1], [1, -1]], closed=True, fill=True, color='blue')\n",
        "        ax.add_patch(triangle)\n",
        "    elif shape == '사각형':\n",
        "        print(\"사각형을 그립니다.\")\n",
        "        # 사각형 왼쪽 하단 좌표 및 크기\n",
        "        rectangle = patches.Rectangle((-1, -1), 2, 2, linewidth=1, edgecolor='red', facecolor='none')\n",
        "        ax.add_patch(rectangle)\n",
        "    else:\n",
        "        print(\"지원하지 않는 도형입니다.\")\n",
        "\n",
        "    plt.show()\n",
        "\n",
        "# 드롭다운 값이 변경될 때 draw_shape 함수 호출\n",
        "def on_dropdown_change(change):\n",
        "    if change['type'] == 'change' and change['name'] == 'value':\n",
        "        draw_shape(change['new'])\n",
        "\n",
        "shape_dropdown.observe(on_dropdown_change)\n",
        "\n",
        "# 초기값에 따라 도형 그리기\n",
        "draw_shape(shape_dropdown.value)\n"
      ],
      "metadata": {
        "id": "uiQa8asFV75n",
        "colab": {
          "base_uri": "https://localhost:8080/",
          "height": 920,
          "referenced_widgets": [
            "7fbc8b96fdd6435bb0329c9dfed350c3",
            "2de5673670b04c029b83a701ed498239",
            "02a3e8ed1b2140a1939943f5e1f1bacc"
          ]
        },
        "outputId": "03e7d76c-6f69-4521-8abc-ed767e743ddc"
      },
      "execution_count": 63,
      "outputs": [
        {
          "output_type": "display_data",
          "data": {
            "text/plain": [
              "Dropdown(description='도형 선택:', options=('삼각형', '사각형'), value='삼각형')"
            ],
            "application/vnd.jupyter.widget-view+json": {
              "version_major": 2,
              "version_minor": 0,
              "model_id": "7fbc8b96fdd6435bb0329c9dfed350c3"
            }
          },
          "metadata": {}
        },
        {
          "output_type": "stream",
          "name": "stdout",
          "text": [
            "삼각형을 그립니다.\n"
          ]
        },
        {
          "output_type": "display_data",
          "data": {
            "text/plain": [
              "<Figure size 640x480 with 1 Axes>"
            ],
            "image/png": "[encoded data removed]"
          },
          "metadata": {}
        },
        {
          "output_type": "stream",
          "name": "stdout",
          "text": [
            "사각형을 그립니다.\n"
          ]
        },
        {
          "output_type": "display_data",
          "data": {
            "text/plain": [
              "<Figure size 640x480 with 1 Axes>"
            ],
            "image/png": "[encoded data removed]"
          },
          "metadata": {}
        }
      ]
    }
  ]
}