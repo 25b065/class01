{
  "nbformat": 4,
  "nbformat_minor": 0,
  "metadata": {
    "colab": {
      "provenance": [],
      "authorship_tag": "ABX9TyMnHQN9fwruZtdAb56PEI+w",
      "include_colab_link": true
    },
    "kernelspec": {
      "name": "python3",
      "display_name": "Python 3"
    },
    "language_info": {
      "name": "python"
    }
  },
  "cells": [
    {
      "cell_type": "markdown",
      "metadata": {
        "id": "view-in-github",
        "colab_type": "text"
      },
      "source": [
        "<a href=\"https://colab.research.google.com/github/25b065/class01/blob/main/%EC%84%A0%ED%83%9D%EA%B5%AC%EC%A1%B0pynb.ipynb\" target=\"_parent\"><img src=\"https://colab.research.google.com/assets/colab-badge.svg\" alt=\"Open In Colab\"/></a>"
      ]
    },
    {
      "cell_type": "code",
      "execution_count": 7,
      "metadata": {
        "colab": {
          "base_uri": "https://localhost:8080/"
        },
        "id": "Rt35x6UjVy5Y",
        "outputId": "6f0d09ff-0417-4c9f-d167-aa0f3c46a349"
      },
      "outputs": [
        {
          "output_type": "stream",
          "name": "stdout",
          "text": [
            "숫자를 입력하세요: 2\n",
            "입력한 숫자는 양수입니다.\n"
          ]
        }
      ],
      "source": [
        "3\n",
        "# prompt: 선택구조를 사용한 프로그램 만들어줘\n",
        "\n",
        "# 숫자를 입력 받습니다.\n",
        "number = int(input(\"숫자를 입력하세요: \"))\n",
        "\n",
        "# 선택 구조를 사용하여 양수, 음수, 0을 판별합니다.\n",
        "if number > 0:\n",
        "  print(\"입력한 숫자는 양수입니다.\")\n",
        "elif number < 0:\n",
        "  print(\"입력한 숫자는 음수입니다.\")\n",
        "else:\n",
        "  print(\"입력한 숫자는 0입니다.\")"
      ]
    },
    {
      "cell_type": "code",
      "source": [],
      "metadata": {
        "id": "uiQa8asFV75n"
      },
      "execution_count": null,
      "outputs": []
    }
  ]
}